{
 "cells": [
  {
   "cell_type": "code",
   "execution_count": null,
   "metadata": {},
   "outputs": [
    {
     "name": "stdout",
     "output_type": "stream",
     "text": [
      "Le fichier JSON n'existe pas. Interrogation des APIs...\n"
     ]
    },
    {
     "ename": "ValueError",
     "evalue": "An invalid value was specified for display_name. Check that the argument for the display_name parameter is not empty.",
     "output_type": "error",
     "traceback": [
      "\u001b[1;31m---------------------------------------------------------------------------\u001b[0m",
      "\u001b[1;31mValueError\u001b[0m                                Traceback (most recent call last)",
      "Cell \u001b[1;32mIn[1], line 23\u001b[0m\n\u001b[0;32m     21\u001b[0m     \u001b[38;5;66;03m# Création d'un corpus\u001b[39;00m\n\u001b[0;32m     22\u001b[0m     corpus \u001b[38;5;241m=\u001b[39m Corpus(\u001b[38;5;124mf\u001b[39m\u001b[38;5;124m\"\u001b[39m\u001b[38;5;124mCorpus \u001b[39m\u001b[38;5;132;01m{\u001b[39;00mquery\u001b[38;5;132;01m}\u001b[39;00m\u001b[38;5;124m\"\u001b[39m)\n\u001b[1;32m---> 23\u001b[0m     \u001b[43mcorpus\u001b[49m\u001b[38;5;241;43m.\u001b[39;49m\u001b[43mgenerate_corpus\u001b[49m\u001b[43m(\u001b[49m\u001b[43mquery\u001b[49m\u001b[43m)\u001b[49m\n\u001b[0;32m     24\u001b[0m     corpus\u001b[38;5;241m.\u001b[39msave_to_json(\u001b[38;5;124mf\u001b[39m\u001b[38;5;124m\"\u001b[39m\u001b[38;5;132;01m{\u001b[39;00mquery\u001b[38;5;132;01m}\u001b[39;00m\u001b[38;5;124m_data.json\u001b[39m\u001b[38;5;124m\"\u001b[39m)\n\u001b[0;32m     26\u001b[0m \u001b[38;5;28mprint\u001b[39m(corpus)\n",
      "File \u001b[1;32mc:\\Users\\Olivier\\Desktop\\Cours\\M1\\Python\\QueryPy\\Classes\\Corpus.py:65\u001b[0m, in \u001b[0;36mCorpus.generate_corpus\u001b[1;34m(self, user_query)\u001b[0m\n\u001b[0;32m     61\u001b[0m reddit \u001b[38;5;241m=\u001b[39m praw\u001b[38;5;241m.\u001b[39mReddit(\n\u001b[0;32m     62\u001b[0m     client_id\u001b[38;5;241m=\u001b[39mclient_id, client_secret\u001b[38;5;241m=\u001b[39mclient_secret, user_agent\u001b[38;5;241m=\u001b[39muser_agent\n\u001b[0;32m     63\u001b[0m )\n\u001b[0;32m     64\u001b[0m subreddit_name \u001b[38;5;241m=\u001b[39m user_query\n\u001b[1;32m---> 65\u001b[0m subr \u001b[38;5;241m=\u001b[39m \u001b[43mreddit\u001b[49m\u001b[38;5;241;43m.\u001b[39;49m\u001b[43msubreddit\u001b[49m\u001b[43m(\u001b[49m\u001b[43msubreddit_name\u001b[49m\u001b[43m)\u001b[49m\n\u001b[0;32m     67\u001b[0m \u001b[38;5;66;03m# Extraction des données Reddit\u001b[39;00m\n\u001b[0;32m     68\u001b[0m \u001b[38;5;28mprint\u001b[39m(\u001b[38;5;124m\"\u001b[39m\u001b[38;5;124mExtraction des données depuis Reddit...\u001b[39m\u001b[38;5;124m\"\u001b[39m)\n",
      "File \u001b[1;32mc:\\Python312\\Lib\\site-packages\\praw\\models\\helpers.py:335\u001b[0m, in \u001b[0;36mSubredditHelper.__call__\u001b[1;34m(self, display_name)\u001b[0m\n\u001b[0;32m    332\u001b[0m \u001b[38;5;28;01mif\u001b[39;00m lower_name \u001b[38;5;241m==\u001b[39m \u001b[38;5;124m\"\u001b[39m\u001b[38;5;124mrandnsfw\u001b[39m\u001b[38;5;124m\"\u001b[39m:\n\u001b[0;32m    333\u001b[0m     \u001b[38;5;28;01mreturn\u001b[39;00m \u001b[38;5;28mself\u001b[39m\u001b[38;5;241m.\u001b[39m_reddit\u001b[38;5;241m.\u001b[39mrandom_subreddit(nsfw\u001b[38;5;241m=\u001b[39m\u001b[38;5;28;01mTrue\u001b[39;00m)\n\u001b[1;32m--> 335\u001b[0m \u001b[38;5;28;01mreturn\u001b[39;00m \u001b[43mSubreddit\u001b[49m\u001b[43m(\u001b[49m\u001b[38;5;28;43mself\u001b[39;49m\u001b[38;5;241;43m.\u001b[39;49m\u001b[43m_reddit\u001b[49m\u001b[43m,\u001b[49m\u001b[43m \u001b[49m\u001b[43mdisplay_name\u001b[49m\u001b[38;5;241;43m=\u001b[39;49m\u001b[43mdisplay_name\u001b[49m\u001b[43m)\u001b[49m\n",
      "File \u001b[1;32mc:\\Python312\\Lib\\site-packages\\praw\\models\\reddit\\subreddit.py:3015\u001b[0m, in \u001b[0;36mSubreddit.__init__\u001b[1;34m(self, reddit, display_name, _data)\u001b[0m\n\u001b[0;32m   3013\u001b[0m \u001b[38;5;28;01mif\u001b[39;00m display_name:\n\u001b[0;32m   3014\u001b[0m     \u001b[38;5;28mself\u001b[39m\u001b[38;5;241m.\u001b[39mdisplay_name \u001b[38;5;241m=\u001b[39m display_name\n\u001b[1;32m-> 3015\u001b[0m \u001b[38;5;28;43msuper\u001b[39;49m\u001b[43m(\u001b[49m\u001b[43m)\u001b[49m\u001b[38;5;241;43m.\u001b[39;49m\u001b[38;5;21;43m__init__\u001b[39;49m\u001b[43m(\u001b[49m\u001b[43mreddit\u001b[49m\u001b[43m,\u001b[49m\u001b[43m \u001b[49m\u001b[43m_data\u001b[49m\u001b[38;5;241;43m=\u001b[39;49m\u001b[43m_data\u001b[49m\u001b[43m)\u001b[49m\n\u001b[0;32m   3016\u001b[0m \u001b[38;5;28mself\u001b[39m\u001b[38;5;241m.\u001b[39m_path \u001b[38;5;241m=\u001b[39m API_PATH[\u001b[38;5;124m\"\u001b[39m\u001b[38;5;124msubreddit\u001b[39m\u001b[38;5;124m\"\u001b[39m]\u001b[38;5;241m.\u001b[39mformat(subreddit\u001b[38;5;241m=\u001b[39m\u001b[38;5;28mself\u001b[39m)\n",
      "File \u001b[1;32mc:\\Python312\\Lib\\site-packages\\praw\\models\\listing\\mixins\\subreddit.py:74\u001b[0m, in \u001b[0;36mSubredditListingMixin.__init__\u001b[1;34m(self, reddit, _data)\u001b[0m\n\u001b[0;32m     68\u001b[0m \u001b[38;5;28;01mdef\u001b[39;00m\u001b[38;5;250m \u001b[39m\u001b[38;5;21m__init__\u001b[39m(\u001b[38;5;28mself\u001b[39m, reddit: praw\u001b[38;5;241m.\u001b[39mReddit, _data: \u001b[38;5;28mdict\u001b[39m[\u001b[38;5;28mstr\u001b[39m, Any] \u001b[38;5;241m|\u001b[39m \u001b[38;5;28;01mNone\u001b[39;00m):\n\u001b[0;32m     69\u001b[0m \u001b[38;5;250m    \u001b[39m\u001b[38;5;124;03m\"\"\"Initialize a :class:`.SubredditListingMixin` instance.\u001b[39;00m\n\u001b[0;32m     70\u001b[0m \n\u001b[0;32m     71\u001b[0m \u001b[38;5;124;03m    :param reddit: An instance of :class:`.Reddit`.\u001b[39;00m\n\u001b[0;32m     72\u001b[0m \n\u001b[0;32m     73\u001b[0m \u001b[38;5;124;03m    \"\"\"\u001b[39;00m\n\u001b[1;32m---> 74\u001b[0m     \u001b[38;5;28;43msuper\u001b[39;49m\u001b[43m(\u001b[49m\u001b[43m)\u001b[49m\u001b[38;5;241;43m.\u001b[39;49m\u001b[38;5;21;43m__init__\u001b[39;49m\u001b[43m(\u001b[49m\u001b[43mreddit\u001b[49m\u001b[43m,\u001b[49m\u001b[43m \u001b[49m\u001b[43m_data\u001b[49m\u001b[38;5;241;43m=\u001b[39;49m\u001b[43m_data\u001b[49m\u001b[43m)\u001b[49m\n",
      "File \u001b[1;32mc:\\Python312\\Lib\\site-packages\\praw\\models\\reddit\\base.py:69\u001b[0m, in \u001b[0;36mRedditBase.__init__\u001b[1;34m(self, reddit, _data, _extra_attribute_to_check, _fetched, _str_field)\u001b[0m\n\u001b[0;32m     67\u001b[0m     \u001b[38;5;28;01mreturn\u001b[39;00m\n\u001b[0;32m     68\u001b[0m msg \u001b[38;5;241m=\u001b[39m \u001b[38;5;124mf\u001b[39m\u001b[38;5;124m\"\u001b[39m\u001b[38;5;124mAn invalid value was specified for \u001b[39m\u001b[38;5;132;01m{\u001b[39;00m\u001b[38;5;28mself\u001b[39m\u001b[38;5;241m.\u001b[39mSTR_FIELD\u001b[38;5;132;01m}\u001b[39;00m\u001b[38;5;124m. Check that the argument for the \u001b[39m\u001b[38;5;132;01m{\u001b[39;00m\u001b[38;5;28mself\u001b[39m\u001b[38;5;241m.\u001b[39mSTR_FIELD\u001b[38;5;132;01m}\u001b[39;00m\u001b[38;5;124m parameter is not empty.\u001b[39m\u001b[38;5;124m\"\u001b[39m\n\u001b[1;32m---> 69\u001b[0m \u001b[38;5;28;01mraise\u001b[39;00m \u001b[38;5;167;01mValueError\u001b[39;00m(msg)\n",
      "\u001b[1;31mValueError\u001b[0m: An invalid value was specified for display_name. Check that the argument for the display_name parameter is not empty."
     ]
    }
   ],
   "source": [
    "from Classes.Corpus import Corpus\n",
    "from Classes.SearchEngine import SearchEngine\n",
    "from Classes.SearchInterface import SearchInterface\n",
    "import os\n",
    "\n",
    "data_dir = \"Data\"\n",
    "sample_json_filename = os.path.join(data_dir, \"coronavirus_data.json\")\n",
    "\n",
    "if os.path.exists(sample_json_filename):\n",
    "    corpus = Corpus(\"Corpus COVID\")\n",
    "    print(\"Le fichier JSON existe, chargement des données...\")\n",
    "    corpus.load_from_json(sample_json_filename)\n",
    "else:\n",
    "    print(\"Le fichier JSON n'existe pas. Interrogation des APIs...\")\n",
    "    query = (\n",
    "        input(\n",
    "            \"Veuillez saisir un sujet scientifique qui vous intéresse (préferer les termes génériques comme 'black holes', 'artificial intelligence', 'cloud computing') \"\n",
    "        )\n",
    "        .strip()\n",
    "        .replace(\" \", \"\")\n",
    "    )\n",
    "    # Création d'un corpus\n",
    "    corpus = Corpus(f\"Corpus {query}\")\n",
    "    corpus.generate_corpus(query)\n",
    "    corpus.save_to_json(os.path.join(data_dir, f\"{query}_data.json\"))\n",
    "\n",
    "print(corpus)\n",
    "corpus.stats(20)\n",
    "# TD8 / Interface\n",
    "print(\"Initialisation du moteur de recherche...\")\n",
    "search_engine = SearchEngine(corpus)\n",
    "# Création de l'interface\n",
    "interface = SearchInterface(search_engine)\n",
    "interface.display()"
   ]
  }
 ],
 "metadata": {
  "kernelspec": {
   "display_name": "Python 3",
   "language": "python",
   "name": "python3"
  },
  "language_info": {
   "codemirror_mode": {
    "name": "ipython",
    "version": 3
   },
   "file_extension": ".py",
   "mimetype": "text/x-python",
   "name": "python",
   "nbconvert_exporter": "python",
   "pygments_lexer": "ipython3",
   "version": "3.12.4"
  }
 },
 "nbformat": 4,
 "nbformat_minor": 2
}
