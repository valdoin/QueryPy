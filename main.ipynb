{
 "cells": [
  {
   "cell_type": "code",
   "execution_count": 1,
   "metadata": {},
   "outputs": [
    {
     "name": "stdout",
     "output_type": "stream",
     "text": [
      "Le fichier JSON existe, chargement des données...\n",
      "Corpus chargé avec succès depuis coronavirus_data.json.\n",
      "Corpus 'Corpus COVID':\n",
      "  - Nombre de documents : 200\n",
      "  - Nombre d'auteurs : 367\n",
      "\n",
      "Initialisation du moteur de recherche...\n"
     ]
    },
    {
     "data": {
      "application/vnd.jupyter.widget-view+json": {
       "model_id": "17d11838ef4742858900e3a338e5b8d8",
       "version_major": 2,
       "version_minor": 0
      },
      "text/plain": [
       "VBox(children=(Label(value='Moteur de recherche'), Text(value='', placeholder='Entrez vos mots-clés'), IntSlid…"
      ]
     },
     "metadata": {},
     "output_type": "display_data"
    }
   ],
   "source": [
    "from Classes.Corpus import Corpus\n",
    "from Classes.SearchEngine import SearchEngine\n",
    "from Classes.SearchInterface import SearchInterface\n",
    "import os\n",
    "\n",
    "sample_json_filename = \"coronavirus_data.json\"\n",
    "\n",
    "if os.path.exists(sample_json_filename):\n",
    "    corpus = Corpus(\"Corpus COVID\")\n",
    "    print(\"Le fichier JSON existe, chargement des données...\")\n",
    "    corpus.load_from_json(sample_json_filename)\n",
    "else:\n",
    "    print(\"Le fichier JSON n'existe pas. Interrogation des APIs...\")\n",
    "    query = (\n",
    "        input(\n",
    "            \"Veuillez saisir un sujet scientifique qui vous intéresse (préferer les termes génériques comme 'black holes', 'artificial intelligence', 'cloud computing') \"\n",
    "        )\n",
    "        .strip()\n",
    "        .replace(\" \", \"\")\n",
    "    )\n",
    "    # Création d'un corpus\n",
    "    corpus = Corpus(f\"Corpus {query}\")\n",
    "    corpus.generate_corpus(query)\n",
    "    corpus.save_to_json(f\"{query}_data.json\")\n",
    "\n",
    "print(corpus)\n",
    "corpus.stats(20)\n",
    "# TD8 / Interface\n",
    "print(\"Initialisation du moteur de recherche...\")\n",
    "search_engine = SearchEngine(corpus)\n",
    "# Création de l'interface\n",
    "interface = SearchInterface(search_engine)\n",
    "interface.display()"
   ]
  }
 ],
 "metadata": {
  "kernelspec": {
   "display_name": "Python 3",
   "language": "python",
   "name": "python3"
  },
  "language_info": {
   "codemirror_mode": {
    "name": "ipython",
    "version": 3
   },
   "file_extension": ".py",
   "mimetype": "text/x-python",
   "name": "python",
   "nbconvert_exporter": "python",
   "pygments_lexer": "ipython3",
   "version": "3.12.4"
  }
 },
 "nbformat": 4,
 "nbformat_minor": 2
}
